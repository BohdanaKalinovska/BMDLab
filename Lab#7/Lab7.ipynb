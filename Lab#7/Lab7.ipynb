{
 "cells": [
  {
   "cell_type": "markdown",
   "metadata": {},
   "source": [
    "Назва дисципліни: Обробка та аналіз біомедичних даних"
   ]
  },
  {
   "cell_type": "markdown",
   "metadata": {},
   "source": [
    "Група: БС-83"
   ]
  },
  {
   "cell_type": "markdown",
   "metadata": {},
   "source": [
    "Студент: Каліновська Б.В."
   ]
  },
  {
   "cell_type": "markdown",
   "metadata": {},
   "source": [
    "Лабораторна робота №7"
   ]
  },
  {
   "cell_type": "markdown",
   "metadata": {},
   "source": [
    "Тема:t-критерій Стьюдента для незалежних вибірок"
   ]
  },
  {
   "cell_type": "markdown",
   "metadata": {},
   "source": [
    "Завдання:"
   ]
  },
  {
   "cell_type": "markdown",
   "metadata": {},
   "source": [
    "1. Обрати реальні дані з kaggle або сгенерувати випадкові дані. Дані мають відповідати вимогам"
   ]
  },
  {
   "cell_type": "code",
   "execution_count": 1,
   "metadata": {},
   "outputs": [],
   "source": [
    "#Імпортування бібліотек\n",
    "import numpy as np\n",
    "import pandas as pd\n",
    "import scipy.stats as ss\n",
    "import seaborn as sns\n",
    "import math\n",
    "import matplotlib.pyplot as plt"
   ]
  },
  {
   "cell_type": "code",
   "execution_count": 2,
   "metadata": {},
   "outputs": [
    {
     "data": {
      "text/html": [
       "<div>\n",
       "<style scoped>\n",
       "    .dataframe tbody tr th:only-of-type {\n",
       "        vertical-align: middle;\n",
       "    }\n",
       "\n",
       "    .dataframe tbody tr th {\n",
       "        vertical-align: top;\n",
       "    }\n",
       "\n",
       "    .dataframe thead th {\n",
       "        text-align: right;\n",
       "    }\n",
       "</style>\n",
       "<table border=\"1\" class=\"dataframe\">\n",
       "  <thead>\n",
       "    <tr style=\"text-align: right;\">\n",
       "      <th>№</th>\n",
       "      <th>Чоловіки</th>\n",
       "      <th>Жінки</th>\n",
       "    </tr>\n",
       "  </thead>\n",
       "  <tbody>\n",
       "    <tr>\n",
       "      <td>1</td>\n",
       "      <td>30</td>\n",
       "      <td>47</td>\n",
       "    </tr>\n",
       "    <tr>\n",
       "      <td>2</td>\n",
       "      <td>45</td>\n",
       "      <td>42</td>\n",
       "    </tr>\n",
       "    <tr>\n",
       "      <td>3</td>\n",
       "      <td>41</td>\n",
       "      <td>52</td>\n",
       "    </tr>\n",
       "    <tr>\n",
       "      <td>4</td>\n",
       "      <td>38</td>\n",
       "      <td>55</td>\n",
       "    </tr>\n",
       "    <tr>\n",
       "      <td>5</td>\n",
       "      <td>34</td>\n",
       "      <td>59</td>\n",
       "    </tr>\n",
       "    <tr>\n",
       "      <td>6</td>\n",
       "      <td>36</td>\n",
       "      <td>40</td>\n",
       "    </tr>\n",
       "    <tr>\n",
       "      <td>7</td>\n",
       "      <td>31</td>\n",
       "      <td>43</td>\n",
       "    </tr>\n",
       "    <tr>\n",
       "      <td>8</td>\n",
       "      <td>32</td>\n",
       "      <td>54</td>\n",
       "    </tr>\n",
       "    <tr>\n",
       "      <td>9</td>\n",
       "      <td>49</td>\n",
       "      <td>58</td>\n",
       "    </tr>\n",
       "    <tr>\n",
       "      <td>10</td>\n",
       "      <td>50</td>\n",
       "      <td>48</td>\n",
       "    </tr>\n",
       "    <tr>\n",
       "      <td>11</td>\n",
       "      <td>51</td>\n",
       "      <td>44</td>\n",
       "    </tr>\n",
       "  </tbody>\n",
       "</table>\n",
       "</div>"
      ],
      "text/plain": [
       "№   Чоловіки  Жінки\n",
       "1         30     47\n",
       "2         45     42\n",
       "3         41     52\n",
       "4         38     55\n",
       "5         34     59\n",
       "6         36     40\n",
       "7         31     43\n",
       "8         32     54\n",
       "9         49     58\n",
       "10        50     48\n",
       "11        51     44"
      ]
     },
     "execution_count": 2,
     "metadata": {},
     "output_type": "execute_result"
    }
   ],
   "source": [
    "#Складаємо таблицю\n",
    "#Дві групи людей виконують тести на уважність, одна складається тільки з чоловіків друга тільки з жінок\n",
    "#Рахувалась кількість секун за який вони виконали тест\n",
    "Gr_1 = [30,45,41,38,34,36,31,32,49,50,51]\n",
    "Gr_2 = [47,42,52,55,59,40,43,54,58,48,44]\n",
    "st_table = pd.DataFrame({'Чоловіки':Gr_1,\n",
    "                            'Жінки':Gr_2},\n",
    "                            index=np.arange(1, len(Gr_1) + 1))\n",
    "st_table.columns.name = '№'\n",
    "\n",
    "st_table"
   ]
  },
  {
   "cell_type": "markdown",
   "metadata": {},
   "source": [
    "2. Побудувати графік, що відображає розкид даних в групах"
   ]
  },
  {
   "cell_type": "code",
   "execution_count": 3,
   "metadata": {},
   "outputs": [
    {
     "data": {
      "text/plain": [
       "[Text(0, 0.5, 'Групи, які брали участь в дослідженні'),\n",
       " Text(0.5, 0, 'секунди')]"
      ]
     },
     "execution_count": 3,
     "metadata": {},
     "output_type": "execute_result"
    },
    {
     "data": {
      "image/png": "[encoded data removed]",
      "text/plain": [
       "<Figure size 432x288 with 1 Axes>"
      ]
     },
     "metadata": {
      "needs_background": "light"
     },
     "output_type": "display_data"
    }
   ],
   "source": [
    "#Діаграма розмаху, коро́бковий графік, графік «ящик з вусами» — засіб візуалізації в описовій статистиці груп числових даних \n",
    "#через їх квантилі. Коробковий графік може також мати лінії, які виходять вертикально з коробки (вони називаються вусами), \n",
    "#вони вказують величину мінливості поза верхньою та нижньою межами квантиля. Викиди може бути нанесено у вигляді точок.\n",
    "\n",
    "sns.boxplot( data=st_table, orient='h', palette='coolwarm').set(xlabel='секунди', \n",
    "                                                        ylabel='Групи, які брали участь в дослідженні')"
   ]
  },
  {
   "cell_type": "markdown",
   "metadata": {},
   "source": [
    "3. Написати функцію для оцінки вімінностей дисперсій між групами за критерієм Лівеня. Функція має повертати значення тесту та результат оцінки рівності дисперсій (significant або not significant)"
   ]
  },
  {
   "cell_type": "code",
   "execution_count": 4,
   "metadata": {},
   "outputs": [],
   "source": [
    "#Підрахуємо спочатку дисперсію для першого і для другого масиву, де arr- масив для якого ми шукаємо дисперсію\n",
    "#Обчислимо дисперсію за функцією var() - обчислює дисперсію значень елементів масива\n",
    "def duspersia(arr):\n",
    "    return np.var(arr)\n",
    "\n",
    "def Livena(team_1, team_2):\n",
    "    d_1 = duspersia(team_1)\n",
    "    d_2 = duspersia(team_2)\n",
    "    if(d_1 >= d_2):\n",
    "        F=d_1/d_2\n",
    "    else:\n",
    "        F=d_2/d_1 \n",
    "    print(\"------------------------------------------------------- \")    \n",
    "    print(\"-------Тест Лівеня: перевірка рівності дисперсії-------\")\n",
    "    print(\"------------------------------------------------------- \")\n",
    "    print(\"Значення критерію: F = \", F)\n",
    "    \n",
    "    #Знайдемо ступіні свободи\n",
    "    df_1=len(team_1)-1\n",
    "    df_2=len(team_2)-1\n",
    "    \n",
    "     #Робота з файлом\n",
    "  \n",
    "    #Загружаємо необхідні бібліотеки\n",
    "    import xlrd, xlwt\n",
    "    #Відкриваємо xlsx файл\n",
    "    rb = xlrd.open_workbook('Livena.xlsx')\n",
    "    #Вибираємо активний лист (індексація з 0)\n",
    "    sheet = rb.sheet_by_index(0)\n",
    "    #Отримуємо значення необхідної нам ячейки (номер рядка - тобто ступінь свободи)[номер стовпчика]\n",
    "    if(df_1<=10 and df_2<=20):\n",
    "        F_tabl = sheet.row_values(df_2 + 1)[df_1]\n",
    "    \n",
    "    #Крайні випадки\n",
    "    if(df_1==15 and df_2<=20):\n",
    "        F_tabl = sheet.row_values(df_2 + 1)[11]\n",
    "    if(df_1>15 and df_2>20):\n",
    "        F_tabl = sheet.row_values(22)[12]    \n",
    "    \n",
    "    print(\"Критичне значення критерію: F_tabl = \", F_tabl)\n",
    "    if (F_tabl < F):\n",
    "        result = \"not significant\" #приймають гіпотезу H1\n",
    "    else:\n",
    "        result = \"significant\"  #приймають гіпотезу H0\n",
    "    print(\"Оцінка рівності дисперсії: \",result)\n",
    "    print(\"------------------------------------------------------- \")\n",
    "    return result\n",
    "    \n"
   ]
  },
  {
   "cell_type": "code",
   "execution_count": 5,
   "metadata": {},
   "outputs": [
    {
     "name": "stdout",
     "output_type": "stream",
     "text": [
      "------------------------------------------------------- \n",
      "-------Тест Лівеня: перевірка рівності дисперсії-------\n",
      "------------------------------------------------------- \n",
      "Значення критерію: F =  1.407905460472698\n",
      "Критичне значення критерію: F_tabl =  2.98\n",
      "Оцінка рівності дисперсії:  significant\n",
      "------------------------------------------------------- \n"
     ]
    },
    {
     "data": {
      "text/plain": [
       "'significant'"
      ]
     },
     "execution_count": 5,
     "metadata": {},
     "output_type": "execute_result"
    }
   ],
   "source": [
    "Livena(Gr_1,Gr_2)"
   ]
  },
  {
   "cell_type": "markdown",
   "metadata": {},
   "source": [
    "4.Написати функцію для визначення відмінності між групами за критерієм Стьюдента в залежності від рівності/відмінності дисперсій. Функція має повертати значення критерію Стьюдента,значення ступеня свободи та результат оцінки значимості звязку (significant або not significant)"
   ]
  },
  {
   "cell_type": "code",
   "execution_count": 6,
   "metadata": {},
   "outputs": [],
   "source": [
    "#Обчислимо критерій Стюдента\n",
    "\n",
    "#Знаходимо суми масивів\n",
    "def Sum_count(arr):\n",
    "    sum=0\n",
    "    for i in range(len(arr)):\n",
    "        sum += arr[i]\n",
    "    return sum/len(arr)    \n",
    "\n",
    "#Шукаємо стандартне відхилення\n",
    "#std() - обчислює середньоквадратичне (стандартне) відхилення елементів масива\n",
    "def Standatne_vid(arr):\n",
    "    return np.std(arr)\n",
    "\n",
    "def Student(result, team_1, team_2):\n",
    "    r_1 = \"not significant\"\n",
    "    \n",
    "    #Середньоарифметичне для двох груп\n",
    "    sum_1 = Sum_count(team_1)\n",
    "    sum_2 = Sum_count(team_2)\n",
    "    #Довжини обох масивів\n",
    "    N_1 = len(team_1)\n",
    "    N_2 = len(team_2)\n",
    "    #Стандартне відхилення для двох груп\n",
    "    q_1 = Standatne_vid(team_1)\n",
    "    q_2 = Standatne_vid(team_2)\n",
    "    #Стандартне відхилення в квадраті\n",
    "    q2_1 = q_1**2\n",
    "    q2_2 = q_2**2\n",
    "    \n",
    "    \n",
    "    if(r_1 == result):\n",
    "        #Припускається рівність дисперсій \n",
    "        t = (abs(sum_1 - sum_2))/(math.sqrt((q2_1/N_1)+((q2_2)/N_2)))\n",
    "    else:\n",
    "        #Рівність дисперсій не доведена\n",
    "        t = (abs(sum_1 - sum_2))/(math.sqrt(((((N_1-1)*q2_1) + ((N_2-1)*q2_2))*((1/N_1)+(1/N_2)))/(N_1 + N_2 - 2)))\n",
    "        \n",
    "    print(\"---------t критерій для незалежних вибірок-------------\")\n",
    "    print(\"------------------------------------------------------- \")\n",
    "    print(\"Значення критерію Стюдента: t = \", t)\n",
    "    \n",
    "    #Визначаємо ступінь свободи\n",
    "    df = N_1 + N_2 - 2\n",
    "    print(\"Ступінь свободи: df = \", df)\n",
    "     \n",
    "    #Робота з файлом\n",
    "    \n",
    "    #Загружаємо необхідні бібліотеки\n",
    "    import xlrd, xlwt\n",
    "    #Відкриваємо xlsx файл\n",
    "    rb = xlrd.open_workbook('Studenta.xlsx')\n",
    "    #Вибираємо активний лист (індексація з 0)\n",
    "    sheet = rb.sheet_by_index(0)\n",
    "    #Отримуємо значення необхідної нам ячейки (номер рядка - тобто ступінь свободи)[номер стовпчика]\n",
    "    t_tabl = sheet.row_values(df)[1]\n",
    "    print(\"Критичне значення критерію Стюдента t_tabl = \", t_tabl)\n",
    "    \n",
    "    #Перевірка на значимість зв'язку\n",
    "    if(t>t_tabl):\n",
    "        result_2 = \"not significant\" #приймають гіпотезу H1\n",
    "    else:\n",
    "        result_2 = \"significant\" #приймають гіпотезу H0\n",
    "    print(\"Оцінка значимості зв'язку: \", result_2)\n",
    "    print(\"------------------------------------------------------- \")\n",
    "      "
   ]
  },
  {
   "cell_type": "code",
   "execution_count": 7,
   "metadata": {},
   "outputs": [
    {
     "name": "stdout",
     "output_type": "stream",
     "text": [
      "------------------------------------------------------- \n",
      "-------Тест Лівеня: перевірка рівності дисперсії-------\n",
      "------------------------------------------------------- \n",
      "Значення критерію: F =  1.407905460472698\n",
      "Критичне значення критерію: F_tabl =  2.98\n",
      "Оцінка рівності дисперсії:  significant\n",
      "------------------------------------------------------- \n",
      "---------t критерій для незалежних вибірок-------------\n",
      "------------------------------------------------------- \n",
      "Значення критерію Стюдента: t =  3.203418274974513\n",
      "Ступінь свободи: df =  20\n",
      "Критичне значення критерію Стюдента t_tabl =  2.086\n",
      "Оцінка значимості зв'язку:  not significant\n",
      "------------------------------------------------------- \n"
     ]
    }
   ],
   "source": [
    "Student(Livena(Gr_1,Gr_2),Gr_1, Gr_2 )"
   ]
  },
  {
   "cell_type": "markdown",
   "metadata": {},
   "source": [
    "Висновок:"
   ]
  },
  {
   "cell_type": "markdown",
   "metadata": {},
   "source": [
    "1) В результаті перевірки даних на рівність дисперсії за тестом Лівеня було, отримано результат F < F_tabl, що означає що ми повинні прийняти нульову гіпотезу, тобто зробити висновок про статичну рівність дисперсій."
   ]
  },
  {
   "cell_type": "markdown",
   "metadata": {},
   "source": [
    "2) В результаті перевірки відмінності між групами за допомогою критерію Стюдента для незалежних вибірок, було отримано результат  t > t_tabl, що свідчить про те, що ми відхиляємо нульову гіпотезу (тобто приймаємо альтернативну), та робимо висновок про статичну відмінність середніх"
   ]
  },
  {
   "cell_type": "markdown",
   "metadata": {},
   "source": [
    "Стосовно наведеного прикладу, можна стверджувати, що між групами чоловіків і жінок є різниця в швидкості виконання тесту."
   ]
  },
  {
   "cell_type": "code",
   "execution_count": null,
   "metadata": {},
   "outputs": [],
   "source": []
  }
 ],
 "metadata": {
  "kernelspec": {
   "display_name": "Python 3",
   "language": "python",
   "name": "python3"
  },
  "language_info": {
   "codemirror_mode": {
    "name": "ipython",
    "version": 3
   },
   "file_extension": ".py",
   "mimetype": "text/x-python",
   "name": "python",
   "nbconvert_exporter": "python",
   "pygments_lexer": "ipython3",
   "version": "3.7.4"
  }
 },
 "nbformat": 4,
 "nbformat_minor": 2
}
