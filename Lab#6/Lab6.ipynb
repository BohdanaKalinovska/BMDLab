{
 "cells": [
  {
   "cell_type": "markdown",
   "metadata": {},
   "source": [
    "Назва дисципліни: Обробка та аналіз біомедичних даних"
   ]
  },
  {
   "cell_type": "markdown",
   "metadata": {},
   "source": [
    "Група: БС-83"
   ]
  },
  {
   "cell_type": "markdown",
   "metadata": {},
   "source": [
    "Студент: Каліновська Б.В."
   ]
  },
  {
   "cell_type": "markdown",
   "metadata": {},
   "source": [
    "Лабораторна робота №6"
   ]
  },
  {
   "cell_type": "markdown",
   "metadata": {},
   "source": [
    "Тема:Парний t-критерій Стьюдента"
   ]
  },
  {
   "cell_type": "markdown",
   "metadata": {},
   "source": [
    "Завдання:"
   ]
  },
  {
   "cell_type": "markdown",
   "metadata": {},
   "source": [
    "1. Обрати реальні дані з kaggle або сгенерувати випадкові дані. Дані мають відповідати вимогам"
   ]
  },
  {
   "cell_type": "code",
   "execution_count": 3,
   "metadata": {},
   "outputs": [],
   "source": [
    "#Імпортування бібліотек\n",
    "import numpy as np\n",
    "import pandas as pd\n",
    "import scipy.stats as ss\n",
    "import seaborn as sns\n",
    "import math\n",
    "import matplotlib.pyplot as plt"
   ]
  },
  {
   "cell_type": "code",
   "execution_count": 49,
   "metadata": {},
   "outputs": [
    {
     "data": {
      "text/html": [
       "<div>\n",
       "<style scoped>\n",
       "    .dataframe tbody tr th:only-of-type {\n",
       "        vertical-align: middle;\n",
       "    }\n",
       "\n",
       "    .dataframe tbody tr th {\n",
       "        vertical-align: top;\n",
       "    }\n",
       "\n",
       "    .dataframe thead th {\n",
       "        text-align: right;\n",
       "    }\n",
       "</style>\n",
       "<table border=\"1\" class=\"dataframe\">\n",
       "  <thead>\n",
       "    <tr style=\"text-align: right;\">\n",
       "      <th>№</th>\n",
       "      <th>Пульс(до)</th>\n",
       "      <th>Пульс(після)</th>\n",
       "    </tr>\n",
       "  </thead>\n",
       "  <tbody>\n",
       "    <tr>\n",
       "      <td>1</td>\n",
       "      <td>60</td>\n",
       "      <td>86</td>\n",
       "    </tr>\n",
       "    <tr>\n",
       "      <td>2</td>\n",
       "      <td>65</td>\n",
       "      <td>95</td>\n",
       "    </tr>\n",
       "    <tr>\n",
       "      <td>3</td>\n",
       "      <td>67</td>\n",
       "      <td>100</td>\n",
       "    </tr>\n",
       "    <tr>\n",
       "      <td>4</td>\n",
       "      <td>62</td>\n",
       "      <td>88</td>\n",
       "    </tr>\n",
       "    <tr>\n",
       "      <td>5</td>\n",
       "      <td>68</td>\n",
       "      <td>110</td>\n",
       "    </tr>\n",
       "    <tr>\n",
       "      <td>6</td>\n",
       "      <td>65</td>\n",
       "      <td>95</td>\n",
       "    </tr>\n",
       "    <tr>\n",
       "      <td>7</td>\n",
       "      <td>70</td>\n",
       "      <td>84</td>\n",
       "    </tr>\n",
       "    <tr>\n",
       "      <td>8</td>\n",
       "      <td>68</td>\n",
       "      <td>95</td>\n",
       "    </tr>\n",
       "    <tr>\n",
       "      <td>9</td>\n",
       "      <td>60</td>\n",
       "      <td>84</td>\n",
       "    </tr>\n",
       "    <tr>\n",
       "      <td>10</td>\n",
       "      <td>62</td>\n",
       "      <td>82</td>\n",
       "    </tr>\n",
       "    <tr>\n",
       "      <td>11</td>\n",
       "      <td>70</td>\n",
       "      <td>115</td>\n",
       "    </tr>\n",
       "    <tr>\n",
       "      <td>12</td>\n",
       "      <td>63</td>\n",
       "      <td>88</td>\n",
       "    </tr>\n",
       "    <tr>\n",
       "      <td>13</td>\n",
       "      <td>67</td>\n",
       "      <td>84</td>\n",
       "    </tr>\n",
       "    <tr>\n",
       "      <td>14</td>\n",
       "      <td>68</td>\n",
       "      <td>86</td>\n",
       "    </tr>\n",
       "  </tbody>\n",
       "</table>\n",
       "</div>"
      ],
      "text/plain": [
       "№   Пульс(до)  Пульс(після)\n",
       "1          60            86\n",
       "2          65            95\n",
       "3          67           100\n",
       "4          62            88\n",
       "5          68           110\n",
       "6          65            95\n",
       "7          70            84\n",
       "8          68            95\n",
       "9          60            84\n",
       "10         62            82\n",
       "11         70           115\n",
       "12         63            88\n",
       "13         67            84\n",
       "14         68            86"
      ]
     },
     "execution_count": 49,
     "metadata": {},
     "output_type": "execute_result"
    }
   ],
   "source": [
    "#Складаємо таблицю\n",
    "#Будуємо таблицю спряженості\n",
    "#Студентам міряли пульс до заняття та після\n",
    "columns_before = [60,65,67,62,68,65,70,68,60,62,70,63,67,68]\n",
    "columns_after = [86,95,100,88,110,95,84,95,84,82,115,88,84,86]\n",
    "st_table = pd.DataFrame({'Пульс(до)':columns_before,\n",
    "                            'Пульс(після)':columns_after},\n",
    "                            index=np.arange(1, len(columns_before) + 1))\n",
    "st_table.columns.name = '№'\n",
    "\n",
    "st_table"
   ]
  },
  {
   "cell_type": "markdown",
   "metadata": {},
   "source": [
    "2. Побудувати графік, що відображає розкид даних в групах"
   ]
  },
  {
   "cell_type": "code",
   "execution_count": 50,
   "metadata": {},
   "outputs": [
    {
     "data": {
      "text/plain": [
       "[Text(0, 0.5, 'Виміри пульсу у студентів до та після фізичного навантаження'),\n",
       " Text(0.5, 0, 'Пульс')]"
      ]
     },
     "execution_count": 50,
     "metadata": {},
     "output_type": "execute_result"
    },
    {
     "data": {
      "image/png": "[encoded data removed]",
      "text/plain": [
       "<Figure size 432x288 with 1 Axes>"
      ]
     },
     "metadata": {
      "needs_background": "light"
     },
     "output_type": "display_data"
    }
   ],
   "source": [
    "#Діаграма розмаху, коро́бковий графік, графік «ящик з вусами» — засіб візуалізації в описовій статистиці груп числових даних \n",
    "#через їх квантилі. Коробковий графік може також мати лінії, які виходять вертикально з коробки (вони називаються вусами), \n",
    "#вони вказують величину мінливості поза верхньою та нижньою межами квантиля. Викиди може бути нанесено у вигляді точок.\n",
    "\n",
    "sns.boxplot( data=st_table, orient='h', palette='coolwarm').set(xlabel='Пульс', \n",
    "                                                        ylabel='Виміри пульсу у студентів до та після фізичного навантаження')"
   ]
  },
  {
   "cell_type": "markdown",
   "metadata": {},
   "source": [
    "3. Написати функцію для оцінки зв'язку між групами за коефіцієнтом кореляції Пірсона. Функція має повертати значення коефіцієнту кореляції, значення ступеня свободи та результат оцінки значимості зв'зку (significant або not significant)"
   ]
  },
  {
   "cell_type": "code",
   "execution_count": 110,
   "metadata": {},
   "outputs": [],
   "source": [
    "#Коефіцієнт кореції Пірсона обчислюється за формулою \n",
    "#r=n*sum_product - (sum_b * sum_a) / sqrt((n*sum_sq_b - sum_sum_b)*(n*sum_sq_a - sum_sum_a))\n",
    "\n",
    "def Pirson_koef(col_b, col_a):\n",
    "    n=len(col_b) #n - кількість\n",
    "    \n",
    "    sum_product = 0\n",
    "    for i in range(len(col_b)):\n",
    "        sum_product += col_b[i] * col_a[i] \n",
    "    \n",
    "    sum_b=sum(col_b)\n",
    "    sum_a=sum(col_a)\n",
    "    \n",
    "    sum_sum_b = sum_b**2\n",
    "    sum_sum_a = sum_a**2\n",
    "    \n",
    "    sum_sq_b = 0\n",
    "    sum_sq_a = 0\n",
    "    for i in range(len(col_b)):\n",
    "        sum_sq_b += col_b[i] **2\n",
    "        sum_sq_a += col_a[i] **2\n",
    "        \n",
    "    r=((n*sum_product) - (sum_b*sum_a))/math.sqrt(((n*sum_sq_b) - sum_sum_b) * ((n*sum_sq_a) - sum_sum_a))\n",
    "    print(\"Коефіцієнт Пірсона: r = \", r)\n",
    "    \n",
    "    #Розраховуємо число ступенів свободи\n",
    "    df = n-2\n",
    "    print(\"Число ступенів свободи: df = \", df)\n",
    "    \n",
    "     #Робота з файлом\n",
    "  \n",
    "    #Загружаємо необхідні бібліотеки\n",
    "    import xlrd, xlwt\n",
    "    #Відкриваємо xlsx файл\n",
    "    rb = xlrd.open_workbook('tabl_1_Pirson_koef.xlsx')\n",
    "    #Вибираємо активний лист (в нашому випадку це лист 2 но так як індексація з 0 тому 1)\n",
    "    sheet = rb.sheet_by_index(0)\n",
    "    #Отримуємо значення необхідної нам ячейки (номер рядка - тобто ступінь свободи)[номер стовпчика]\n",
    "    r_tabl = sheet.row_values(df)[1]\n",
    "    print(\"Критичне значення: r_tabl = \",r_tabl)\n",
    "    \n",
    "    if(r_tabl < r):\n",
    "        result = \"significant\"\n",
    "    else:\n",
    "        result = \"not significant\"\n",
    "    print(\"Результат оцінки значимості зв'язку:\", result)"
   ]
  },
  {
   "cell_type": "code",
   "execution_count": 111,
   "metadata": {},
   "outputs": [
    {
     "name": "stdout",
     "output_type": "stream",
     "text": [
      "Коефіцієнт Пірсона: r =  0.5233418506822685\n",
      "Число ступенів свободи: df =  12\n",
      "Критичне значення: r_tabl =  0.5324\n",
      "Результат оцінки значимості зв'язку: not significant\n"
     ]
    }
   ],
   "source": [
    "#Перед визначенням відмінності за парним критерієм Стьюента необхідно перевірити чи є зв'язок між групами\n",
    "#Для цього використовують коефіцієнт кореляції Пірсона\n",
    "\n",
    "Pirson_koef(columns_before, columns_after)"
   ]
  },
  {
   "cell_type": "markdown",
   "metadata": {},
   "source": [
    "4. Написати функцію для визначення відмінності між групами за критерієм Стьюдента. Функція має повертати значення критерію Стьюдента,значення ступеня свободи та результат оцінки значимості зв'зку (significant або not significant)"
   ]
  },
  {
   "cell_type": "code",
   "execution_count": 118,
   "metadata": {},
   "outputs": [],
   "source": [
    "#Функція для обчислення коефіцієнту Стюдента обчислюється за формулою\n",
    "#t_st = (Md/qd) * sqrt(n) \n",
    "\n",
    "def Student_koef(st_table, col_b, col_a):\n",
    "    diff = []\n",
    "    n = len(col_b)\n",
    " \n",
    "    for i in range(n):\n",
    "        diff.append(col_b[i] - col_a[i])\n",
    "    \n",
    "    #Зобразимо таблицю зі значеннями різниці\n",
    "    st_table[\"До - Після\"] = diff\n",
    "    st_table.append(diff)\n",
    "    print(st_table)\n",
    "    \n",
    "    #Середнє значення різниці\n",
    "    Md = sum(diff)/n \n",
    "    \n",
    "    #Стандартне відхилення між значеннями \n",
    "    sum_znach = 0\n",
    "    for i in range(n):\n",
    "        sum_znach += (Md - diff[i])**2\n",
    "        \n",
    "    qd = math.sqrt(sum_znach/(n-1))\n",
    "    \n",
    "    #Значення критерія Стюдента\n",
    "    t_st = (Md/qd)*math.sqrt(14)\n",
    "    print('')\n",
    "    print(\"Значення критерію Стюдента: t_st = \", abs(t_st))\n",
    "    \n",
    "    #Знаходимо значення ступеня свободи критерію\n",
    "    df = n - 1\n",
    "    print(\"Число ступенів свободи: df = \", df)\n",
    "    \n",
    "    import xlrd, xlwt\n",
    "    #Відкриваємо xlsx файл\n",
    "    rb = xlrd.open_workbook('tabl_2_Student_koef.xlsx')\n",
    "    #Вибираємо активний лист (в нашому випадку це лист 2 но так як індексація з 0 тому 1)\n",
    "    sheet = rb.sheet_by_index(0)\n",
    "    #Отримуємо значення необхідної нам ячейки (номер рядка - тобто ступінь свободи)[номер стовпчика]\n",
    "    t_tabl = sheet.row_values(df)[1]\n",
    "    \n",
    "    print(\"Критичне значення: t_tabl = \",t_tabl)\n",
    "    \n",
    "    if(t_tabl < abs(t_st)):\n",
    "        result = \"significant\"\n",
    "    else:\n",
    "        result = \"not significant\"\n",
    "    print(\"Результат оцінки значимості зв'язку:\", result)\n",
    "    \n",
    "    "
   ]
  },
  {
   "cell_type": "code",
   "execution_count": 119,
   "metadata": {},
   "outputs": [
    {
     "name": "stdout",
     "output_type": "stream",
     "text": [
      "№   Пульс(до)  Пульс(після)  До - Після\n",
      "1          60            86         -26\n",
      "2          65            95         -30\n",
      "3          67           100         -33\n",
      "4          62            88         -26\n",
      "5          68           110         -42\n",
      "6          65            95         -30\n",
      "7          70            84         -14\n",
      "8          68            95         -27\n",
      "9          60            84         -24\n",
      "10         62            82         -20\n",
      "11         70           115         -45\n",
      "12         63            88         -25\n",
      "13         67            84         -17\n",
      "14         68            86         -18\n",
      "\n",
      "Значення критерію Стюдента: t_st =  11.392099876406263\n",
      "Число ступенів свободи: df =  13\n",
      "Критичне значення: t_tabl =  2.16\n",
      "Результат оцінки значимості зв'язку: significant\n"
     ]
    }
   ],
   "source": [
    "Student_koef(st_table,columns_before, columns_after)"
   ]
  },
  {
   "cell_type": "markdown",
   "metadata": {},
   "source": [
    "5. Сформувати висновок про взаємозв'язок між групами та про їх розбіжність"
   ]
  },
  {
   "cell_type": "markdown",
   "metadata": {},
   "source": [
    "Висновок:"
   ]
  },
  {
   "cell_type": "markdown",
   "metadata": {},
   "source": [
    "Аналізуючи пульс студетів до та після фізичних навантажень можна зробити висновок що:\n",
    "1. Статистичної залежності немає. Так як коефіцієнт кореляції менший за табличне ( r_tabl < r )\n",
    "2. Присутня наявність статистично значущих відмінностей пульсу студентів до та після навантаження (так як t_tabl < t_st), звітси слідує, що була прийнята альтернативна гіпотеза про відмінність середніх"
   ]
  },
  {
   "cell_type": "code",
   "execution_count": null,
   "metadata": {},
   "outputs": [],
   "source": []
  }
 ],
 "metadata": {
  "kernelspec": {
   "display_name": "Python 3",
   "language": "python",
   "name": "python3"
  },
  "language_info": {
   "codemirror_mode": {
    "name": "ipython",
    "version": 3
   },
   "file_extension": ".py",
   "mimetype": "text/x-python",
   "name": "python",
   "nbconvert_exporter": "python",
   "pygments_lexer": "ipython3",
   "version": "3.7.4"
  }
 },
 "nbformat": 4,
 "nbformat_minor": 2
}
